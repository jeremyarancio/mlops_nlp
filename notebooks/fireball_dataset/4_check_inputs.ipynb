{
 "cells": [
  {
   "cell_type": "markdown",
   "metadata": {},
   "source": [
    "# Check dataset input for LLM fine-tuning"
   ]
  },
  {
   "cell_type": "code",
   "execution_count": 13,
   "metadata": {},
   "outputs": [],
   "source": [
    "from datasets import load_dataset\n",
    "from transformers import AutoTokenizer\n",
    "\n",
    "from config.config import ConfigTraining"
   ]
  },
  {
   "cell_type": "code",
   "execution_count": 14,
   "metadata": {},
   "outputs": [
    {
     "name": "stderr",
     "output_type": "stream",
     "text": [
      "Found cached dataset parquet (/home/jeremy/.cache/huggingface/datasets/JeremyArancio___parquet/JeremyArancio--fireball_tokenized-54b675fc6350c3b4/0.0.0/14a00e99c0d15a23649d0db8944380ac81082d4b021f398733dd84f3a6c569a7)\n"
     ]
    }
   ],
   "source": [
    "model_id = \"\"\n",
    "dataset_path = \"JeremyArancio/fireball_tokenized\"\n",
    "model_id = ConfigTraining.pretrained_model_name\n",
    "\n",
    "tokenizer = AutoTokenizer.from_pretrained(model_id)\n",
    "dataset = load_dataset(dataset_path, split=\"train\")"
   ]
  },
  {
   "cell_type": "code",
   "execution_count": 15,
   "metadata": {},
   "outputs": [
    {
     "name": "stdout",
     "output_type": "stream",
     "text": [
      "### Last utterance:\n",
      "Razored teeth lash out to take advantage of an opening\n",
      "### Command description:\n",
      "Lisbeth Ethuil uses Polearm Master - Bonus Attack!\n",
      "\n",
      "### History:\n",
      "The creature, a living crucible of coldest winter, rears back; there is a hitching in its neck, and then it vomits out a spray of biting ice...\n",
      "\n",
      "There is a low hiss; it seems to realise its ice will be no use. Claws like scythes sink into the frozen earth below and flex in readiness...\n",
      "\n",
      "Said only movement of Lis' turn, will assume applies)\n",
      "\n",
      "moving forward, only allowing range for herself, her halberd swings out with practiced, deadly precision.\n",
      "\n",
      "Razored teeth lash out to take advantage of an opening\n",
      "### Prediction:\n",
      "Lisbeth cracks the reptile in the head as it chomps down, knocking the creature off.</s></s></s></s></s></s></s></s></s></s></s></s></s></s></s></s></s></s></s></s></s></s></s></s></s></s></s></s></s></s></s></s></s></s></s></s></s></s></s></s></s></s></s></s></s></s></s></s></s></s></s></s></s></s></s></s></s></s></s></s></s></s></s></s></s></s></s></s></s></s></s></s></s></s></s></s></s></s></s></s></s></s></s></s></s></s></s></s></s></s></s></s></s></s></s></s></s></s></s></s></s></s></s></s></s></s></s></s></s></s></s></s></s></s></s></s></s></s></s></s></s></s></s></s></s></s></s></s></s></s></s></s></s></s></s></s></s></s></s></s></s></s></s></s></s></s></s></s></s></s></s></s></s></s></s></s></s></s></s></s></s></s></s></s></s></s></s></s></s></s></s></s></s></s></s></s></s></s></s></s></s></s></s></s></s></s></s></s></s></s></s></s></s></s></s></s></s></s></s></s></s></s></s></s></s></s></s></s></s></s></s></s></s></s></s></s></s></s></s></s></s></s></s></s></s></s></s></s></s></s></s></s></s></s></s></s></s></s></s></s></s></s></s></s></s></s></s></s></s></s></s></s></s></s></s></s></s></s></s></s></s></s></s></s></s></s></s></s></s></s></s></s></s></s></s></s></s></s></s></s></s></s></s></s></s></s></s></s></s></s></s></s></s></s></s></s></s></s></s></s></s></s></s></s></s></s>\n"
     ]
    }
   ],
   "source": [
    "n = 100\n",
    "print(tokenizer.decode((dataset[n]['input_ids'])))"
   ]
  },
  {
   "cell_type": "code",
   "execution_count": 16,
   "metadata": {},
   "outputs": [
    {
     "name": "stdout",
     "output_type": "stream",
     "text": [
      "Max length of each input: 500\n"
     ]
    }
   ],
   "source": [
    "print(f\"Max length of each input: {len(dataset[n]['input_ids'])}\")"
   ]
  },
  {
   "cell_type": "code",
   "execution_count": 17,
   "metadata": {},
   "outputs": [
    {
     "data": {
      "text/plain": [
       "20939500"
      ]
     },
     "execution_count": 17,
     "metadata": {},
     "output_type": "execute_result"
    }
   ],
   "source": [
    "dataset.num_rows * 500"
   ]
  }
 ],
 "metadata": {
  "kernelspec": {
   "display_name": "rpg_assistant",
   "language": "python",
   "name": "python3"
  },
  "language_info": {
   "codemirror_mode": {
    "name": "ipython",
    "version": 3
   },
   "file_extension": ".py",
   "mimetype": "text/x-python",
   "name": "python",
   "nbconvert_exporter": "python",
   "pygments_lexer": "ipython3",
   "version": "3.9.16"
  },
  "orig_nbformat": 4
 },
 "nbformat": 4,
 "nbformat_minor": 2
}
