{
 "cells": [
  {
   "cell_type": "markdown",
   "metadata": {},
   "source": [
    "# Prepare the fireball dataset for training"
   ]
  },
  {
   "cell_type": "code",
   "execution_count": 2,
   "metadata": {},
   "outputs": [
    {
     "name": "stderr",
     "output_type": "stream",
     "text": [
      "/home/jeremy/miniconda3/envs/rpg_assistant/lib/python3.9/site-packages/tqdm/auto.py:21: TqdmWarning: IProgress not found. Please update jupyter and ipywidgets. See https://ipywidgets.readthedocs.io/en/stable/user_install.html\n",
      "  from .autonotebook import tqdm as notebook_tqdm\n"
     ]
    }
   ],
   "source": [
    "from datasets import load_dataset, Dataset\n",
    "from tqdm import tqdm"
   ]
  },
  {
   "cell_type": "markdown",
   "metadata": {},
   "source": [
    "The dataset has been extracted from the official .tar.gz link and the preprocessed data has been used.\n",
    "Check the offical GitHub of [FIREBALL](https://github.com/zhudotexe/FIREBALL)  \n",
    "\n",
    "It is now stored on Hugging Face"
   ]
  },
  {
   "cell_type": "code",
   "execution_count": 3,
   "metadata": {},
   "outputs": [
    {
     "name": "stderr",
     "output_type": "stream",
     "text": [
      "Found cached dataset parquet (/home/jeremy/.cache/huggingface/datasets/JeremyArancio___parquet/JeremyArancio--fireball-0c4eb766134263ea/0.0.0/14a00e99c0d15a23649d0db8944380ac81082d4b021f398733dd84f3a6c569a7)\n"
     ]
    },
    {
     "data": {
      "text/plain": [
       "Dataset({\n",
       "    features: ['before_utterances', 'commands_norm', 'automation_results', 'after_utterances', 'utterance_history'],\n",
       "    num_rows: 153829\n",
       "})"
      ]
     },
     "execution_count": 3,
     "metadata": {},
     "output_type": "execute_result"
    }
   ],
   "source": [
    "dataset = load_dataset(\"JeremyArancio/fireball\", split=\"train\")\n",
    "dataset"
   ]
  },
  {
   "cell_type": "code",
   "execution_count": 4,
   "metadata": {},
   "outputs": [],
   "source": [
    "it = iter(dataset)"
   ]
  },
  {
   "cell_type": "code",
   "execution_count": 54,
   "metadata": {},
   "outputs": [
    {
     "data": {
      "text/plain": [
       "{'before_utterances': ['\"c\\'mon now we\\'ve got em\\'! just finish him off!\"'],\n",
       " 'commands_norm': ['!a Greataxe -t or4 adv'],\n",
       " 'automation_results': ['Orance attacks with a Greataxe!\\nOrance attacked OR4 and hit.\\nOR4 took 14 damage.'],\n",
       " 'after_utterances': [],\n",
       " 'utterance_history': ['Player 3 of Twilight [6]: (not even in round 4',\n",
       "  'Player 3 of Twilight [6]: (probably i havent seen it yet',\n",
       "  'Fredbear (Zal 6)(Player 2 6): Hehehe let’s see if you can handle this weapon of mine?',\n",
       "  'Fredbear (Zal 6)(Player 2 6): ‘She begin to put both her javelin and her shield away into her back while inrage then brought a big great axe and go for a double strike against this or4’',\n",
       "  'Player 3 of Twilight [6]: \"c\\'mon now we\\'ve got em\\'! just finish him off!\"']}"
      ]
     },
     "execution_count": 54,
     "metadata": {},
     "output_type": "execute_result"
    }
   ],
   "source": [
    "next(it)"
   ]
  },
  {
   "cell_type": "markdown",
   "metadata": {},
   "source": [
    "Action steps:\n",
    "1. before_utterances comes before the command action (it is also stored in utterance history) \n",
    "2. action command (automation_result / commands_normalised)\n",
    "3. results of the action on the next line **or** in next_utterance. In the last case, the next_utterance is not stored in the history\n",
    "\n",
    "\n",
    "```txt\n",
    "'before_utterances': ['The orc assesses the battle field, and sees all of his comrades have been slain. He looks at Cali with blood all over her mouth and takes a swing at her']\n",
    "\n",
    "'commands_norm': ['!i aoo OR2 greataxe -t cali'],\n",
    "'automation_results': ['OR2 attacks with a Greataxe!\\nOR2 attacked Cali Burn and hit.\\nCali Burn took 8 damage.']\n",
    "\n",
    "Next row\n",
    "---------------------------------------------------\n",
    "'before_utterances': [],\n",
    "'commands_norm': ['!i a greataxe -t Cali'],\n",
    "'automation_results': ['OR2 attacks with a Greataxe!\\nOR2 attacked Cali Burn and hit.\\nCali Burn took 7 damage.']\n",
    "'after_utterances': ['\"I\\'ll take you with me devil!\" the orc screams as he hits Cali twice with his Greataxe'],\n",
    "\n",
    "Next row\n",
    "---------------------------------------------------µ\n",
    "'before_utterances': ['Seeing his ineveitable doom as the party closes in on him, the Orc lets out a roar and beats his chest \"For GLORY!\"',\n",
    "  '\"Lets get it over with...slay this beast\" *he says*',\n",
    "  '\"Put it right between his eyes!\"',\n",
    "  'She then position herself going for the right spot then she throws that javelin trying to aim for between the eyes']\n",
    "\n",
    "'commands_norm': ['!a javelin -t or2 adv'],\n",
    "'automation_results': ['Orance attacks with a Javelin!\\nOrance attacked OR2 and hit.\\nOR2 took 10 damage.']\n",
    "\n",
    "'after_utterances': ['The javelin flies through the air, not hitting him in the face, but sticking him in the shoulder. He breaks it off as he pushes through the pain']\n",
    "\n",
    "Next row\n",
    "---------------------------------------------------\n",
    "'before_utterances': ['Actually…you know what? Screw it I will hit him with my own Greataxe! ‘She suddenly move fast as soon she begin a FRENZY of two attacks!’']\n",
    "\n",
    "\n",
    "'commands_norm': ['!a Frenzy'],\n",
    "'automation_results': ['Orance uses Frenzy Rage!\\nOrance gained Rage.']\n",
    "\n",
    "'after_utterances': [],\n",
    "\n",
    "Next row\n",
    "---------------------------------------------------\n",
    "'before_utterances': ['\"Damn you! \" he screams as he swings his axe at Orance'],\n",
    "\n",
    "'commands_norm': ['!i aoo OR2 greataxe -t Orance'],\n",
    "'automation_results': ['OR2 attacks with a Greataxe!\\nOR2 attacked Orance and hit.\\nOrance took 7 damage.']\n",
    "\n",
    "'after_utterances': ['The Orc connects solidly, but Orance seemed unphased'],\n",
    "\n",
    "```"
   ]
  },
  {
   "cell_type": "code",
   "execution_count": 7,
   "metadata": {},
   "outputs": [
    {
     "data": {
      "text/html": [
       "<div>\n",
       "<style scoped>\n",
       "    .dataframe tbody tr th:only-of-type {\n",
       "        vertical-align: middle;\n",
       "    }\n",
       "\n",
       "    .dataframe tbody tr th {\n",
       "        vertical-align: top;\n",
       "    }\n",
       "\n",
       "    .dataframe thead th {\n",
       "        text-align: right;\n",
       "    }\n",
       "</style>\n",
       "<table border=\"1\" class=\"dataframe\">\n",
       "  <thead>\n",
       "    <tr style=\"text-align: right;\">\n",
       "      <th></th>\n",
       "      <th>before_utterances</th>\n",
       "      <th>commands_norm</th>\n",
       "      <th>automation_results</th>\n",
       "      <th>after_utterances</th>\n",
       "      <th>utterance_history</th>\n",
       "    </tr>\n",
       "  </thead>\n",
       "  <tbody>\n",
       "    <tr>\n",
       "      <th>100</th>\n",
       "      <td>[]</td>\n",
       "      <td>[!a bop -t BB3 magical adv\\n-title \"[name] rec...</td>\n",
       "      <td>[Riena recklessly attacks with a Bop!\\nRiena a...</td>\n",
       "      <td>[Razor.*Riena would then try to pluck bb3 out ...</td>\n",
       "      <td>[Player 5: !a battle -t 3 -d 3 -d 4d6]</td>\n",
       "    </tr>\n",
       "    <tr>\n",
       "      <th>101</th>\n",
       "      <td>[*Since riena doesnt want, not need to kill th...</td>\n",
       "      <td>[!a bop -t BB6 -rr 3 magical adv\\n-title \"[nam...</td>\n",
       "      <td>[Riena recklessly attacks with a Bop!\\nRiena a...</td>\n",
       "      <td>[]</td>\n",
       "      <td>[Player 5: !a battle -t 3 -d 3 -d 4d6, Player ...</td>\n",
       "    </tr>\n",
       "    <tr>\n",
       "      <th>102</th>\n",
       "      <td>[*Only a few left shell **violently** put the ...</td>\n",
       "      <td>[!a bop -t BB4 magical adv\\n-title \"[name] rec...</td>\n",
       "      <td>[Riena recklessly attacks with a Bop!\\nRiena a...</td>\n",
       "      <td>[]</td>\n",
       "      <td>[Player 5: !a battle -t 3 -d 3 -d 4d6, Player ...</td>\n",
       "    </tr>\n",
       "    <tr>\n",
       "      <th>103</th>\n",
       "      <td>[]</td>\n",
       "      <td>[!a trip -t bb8 -d -2]</td>\n",
       "      <td>[Riena uses Maneuvers: Trip Attack!\\nBB8 took ...</td>\n",
       "      <td>[*As the bee falls shell try to grab it and sa...</td>\n",
       "      <td>[Player 5: !a battle -t 3 -d 3 -d 4d6, Player ...</td>\n",
       "    </tr>\n",
       "    <tr>\n",
       "      <th>104</th>\n",
       "      <td>[*turns and kisses Revas goodbye*\\n\"I'll be ba...</td>\n",
       "      <td>[!cast synaptic]</td>\n",
       "      <td>[Valerie Black casts Synaptic Static!\\n]</td>\n",
       "      <td>[]</td>\n",
       "      <td>[Player 7: The drone falls to the ground, Play...</td>\n",
       "    </tr>\n",
       "    <tr>\n",
       "      <th>105</th>\n",
       "      <td>[You do but the stats are worse than any of yo...</td>\n",
       "      <td>[!cast hex -t 1 -i]</td>\n",
       "      <td>[Gwyn Woodborn casts Hex!\\nGwyn Woodborn gaine...</td>\n",
       "      <td>[]</td>\n",
       "      <td>[Player 3: You do but the stats are worse than...</td>\n",
       "    </tr>\n",
       "    <tr>\n",
       "      <th>106</th>\n",
       "      <td>[_pops out some claws and strikes at the beast_]</td>\n",
       "      <td>[!cast savagery -t 1 -d \"1d6 [hex necrotic]\" -...</td>\n",
       "      <td>[Gwyn Woodborn casts Primal Savagery!\\nGwyn Wo...</td>\n",
       "      <td>[]</td>\n",
       "      <td>[Player 3: 8 hour buff if you got them, Player...</td>\n",
       "    </tr>\n",
       "    <tr>\n",
       "      <th>107</th>\n",
       "      <td>[\"You know, I don't usually do dog meat, but.....</td>\n",
       "      <td>[!a greatsword -t BigDog1 -rr2 adv]</td>\n",
       "      <td>[Mick \"Ram\" Gordon attacks with a Forsaken Fab...</td>\n",
       "      <td>[]</td>\n",
       "      <td>[Player 3: 30ft away kick us off!, Player 3: \"...</td>\n",
       "    </tr>\n",
       "    <tr>\n",
       "      <th>108</th>\n",
       "      <td>[_He pull out his gun and aim at the not cute ...</td>\n",
       "      <td>[!a pepper eadv -t bigdog1 -d 3d6 -f \"Sneak At...</td>\n",
       "      <td>[The Jester attacks with a Pepperbox (Exandria...</td>\n",
       "      <td>[]</td>\n",
       "      <td>[Player 3: \"What the hell are those?!?!\", Lady...</td>\n",
       "    </tr>\n",
       "    <tr>\n",
       "      <th>109</th>\n",
       "      <td>[goes to attack 1 recklessly]</td>\n",
       "      <td>[!a claw magical -phrase \"Once per turn when y...</td>\n",
       "      <td>[Gorb attacks with a Claws!\\nGorb attacked Big...</td>\n",
       "      <td>[]</td>\n",
       "      <td>[Lady Gwen_Player 4 Dd5|Mk5: _heads towards 1 ...</td>\n",
       "    </tr>\n",
       "  </tbody>\n",
       "</table>\n",
       "</div>"
      ],
      "text/plain": [
       "                                     before_utterances  \\\n",
       "100                                                 []   \n",
       "101  [*Since riena doesnt want, not need to kill th...   \n",
       "102  [*Only a few left shell **violently** put the ...   \n",
       "103                                                 []   \n",
       "104  [*turns and kisses Revas goodbye*\\n\"I'll be ba...   \n",
       "105  [You do but the stats are worse than any of yo...   \n",
       "106   [_pops out some claws and strikes at the beast_]   \n",
       "107  [\"You know, I don't usually do dog meat, but.....   \n",
       "108  [_He pull out his gun and aim at the not cute ...   \n",
       "109                      [goes to attack 1 recklessly]   \n",
       "\n",
       "                                         commands_norm  \\\n",
       "100  [!a bop -t BB3 magical adv\\n-title \"[name] rec...   \n",
       "101  [!a bop -t BB6 -rr 3 magical adv\\n-title \"[nam...   \n",
       "102  [!a bop -t BB4 magical adv\\n-title \"[name] rec...   \n",
       "103                             [!a trip -t bb8 -d -2]   \n",
       "104                                   [!cast synaptic]   \n",
       "105                                [!cast hex -t 1 -i]   \n",
       "106  [!cast savagery -t 1 -d \"1d6 [hex necrotic]\" -...   \n",
       "107                [!a greatsword -t BigDog1 -rr2 adv]   \n",
       "108  [!a pepper eadv -t bigdog1 -d 3d6 -f \"Sneak At...   \n",
       "109  [!a claw magical -phrase \"Once per turn when y...   \n",
       "\n",
       "                                    automation_results  \\\n",
       "100  [Riena recklessly attacks with a Bop!\\nRiena a...   \n",
       "101  [Riena recklessly attacks with a Bop!\\nRiena a...   \n",
       "102  [Riena recklessly attacks with a Bop!\\nRiena a...   \n",
       "103  [Riena uses Maneuvers: Trip Attack!\\nBB8 took ...   \n",
       "104           [Valerie Black casts Synaptic Static!\\n]   \n",
       "105  [Gwyn Woodborn casts Hex!\\nGwyn Woodborn gaine...   \n",
       "106  [Gwyn Woodborn casts Primal Savagery!\\nGwyn Wo...   \n",
       "107  [Mick \"Ram\" Gordon attacks with a Forsaken Fab...   \n",
       "108  [The Jester attacks with a Pepperbox (Exandria...   \n",
       "109  [Gorb attacks with a Claws!\\nGorb attacked Big...   \n",
       "\n",
       "                                      after_utterances  \\\n",
       "100  [Razor.*Riena would then try to pluck bb3 out ...   \n",
       "101                                                 []   \n",
       "102                                                 []   \n",
       "103  [*As the bee falls shell try to grab it and sa...   \n",
       "104                                                 []   \n",
       "105                                                 []   \n",
       "106                                                 []   \n",
       "107                                                 []   \n",
       "108                                                 []   \n",
       "109                                                 []   \n",
       "\n",
       "                                     utterance_history  \n",
       "100             [Player 5: !a battle -t 3 -d 3 -d 4d6]  \n",
       "101  [Player 5: !a battle -t 3 -d 3 -d 4d6, Player ...  \n",
       "102  [Player 5: !a battle -t 3 -d 3 -d 4d6, Player ...  \n",
       "103  [Player 5: !a battle -t 3 -d 3 -d 4d6, Player ...  \n",
       "104  [Player 7: The drone falls to the ground, Play...  \n",
       "105  [Player 3: You do but the stats are worse than...  \n",
       "106  [Player 3: 8 hour buff if you got them, Player...  \n",
       "107  [Player 3: 30ft away kick us off!, Player 3: \"...  \n",
       "108  [Player 3: \"What the hell are those?!?!\", Lady...  \n",
       "109  [Lady Gwen_Player 4 Dd5|Mk5: _heads towards 1 ...  "
      ]
     },
     "execution_count": 7,
     "metadata": {},
     "output_type": "execute_result"
    }
   ],
   "source": [
    "df = dataset.to_pandas(batch_size= 200)\n",
    "df[100:110]"
   ]
  },
  {
   "cell_type": "code",
   "execution_count": 35,
   "metadata": {},
   "outputs": [
    {
     "name": "stdout",
     "output_type": "stream",
     "text": [
      "dataset.num_rows = 153829\n"
     ]
    },
    {
     "name": "stderr",
     "output_type": "stream",
     "text": [
      "                                                                         "
     ]
    },
    {
     "name": "stdout",
     "output_type": "stream",
     "text": [
      "Num rows of filtered data: 43372\n"
     ]
    },
    {
     "name": "stderr",
     "output_type": "stream",
     "text": [
      "\r"
     ]
    }
   ],
   "source": [
    "# How many rows without after_utterance?\n",
    "print(f\"{dataset.num_rows = }\")\n",
    "def filter_function(example):\n",
    "    return example[\"after_utterances\"] != []\n",
    "print(f\"Num rows of filtered data: {dataset.filter(filter_function).num_rows}\")"
   ]
  },
  {
   "cell_type": "markdown",
   "metadata": {},
   "source": [
    "It seems it corresponds to what the paper describes for the next utterance prediction. (~44000)"
   ]
  },
  {
   "cell_type": "markdown",
   "metadata": {},
   "source": [
    "## Observations"
   ]
  },
  {
   "cell_type": "markdown",
   "metadata": {},
   "source": [
    "### Issues\n",
    "1. Sometimes, \"before utterance\" or \"after utterance\" can be missing. Because the story can continue over lines (jsonl) / events, we will create a dataset that will have the required triplet for each event. It's also possible that there's no utterance in a row.\n",
    "\n",
    "2. The utterance (and utterance history are sometimes not Out-Of-Characters -> check the [paper](https://arxiv.org/pdf/2305.01528.pdf) to understand this point)\n",
    "\n",
    "3. In *utterance_history*, player's name doesn't respect any structure\n",
    "\n",
    "4. \"*\" in utterances\n",
    "\n",
    "4. Commands in utterance history\n",
    "\n",
    "5. Possibility to miss *before_utterance* and *utterance_history* in the same event \n",
    "\n",
    "6. Avrae commands in utterance history "
   ]
  },
  {
   "cell_type": "markdown",
   "metadata": {},
   "source": [
    "### Solutions\n",
    "1. \n",
    "    * If no *before_utterance*, take the last utterance in *utterance_history*\n",
    "    * If no *after_utterance*, drop the event (like in the paper)\n",
    "\n",
    "2. ~   \n",
    "\n",
    "3. Remove player's nammes from *utterance_history* \n",
    "\n",
    "4. Remove \"*\" from utterances\n",
    "\n",
    "5. Drop the event when *before_utterance* and *utterance_history* missing"
   ]
  },
  {
   "cell_type": "markdown",
   "metadata": {},
   "source": [
    "## Process the dataset"
   ]
  },
  {
   "cell_type": "markdown",
   "metadata": {},
   "source": [
    "The script describing the dataset processing in located at `scripts/fireball_preparation.py`"
   ]
  },
  {
   "cell_type": "markdown",
   "metadata": {},
   "source": [
    "## Dataset-V1 visualization "
   ]
  },
  {
   "cell_type": "code",
   "execution_count": 31,
   "metadata": {},
   "outputs": [
    {
     "name": "stderr",
     "output_type": "stream",
     "text": [
      "Downloading readme: 100%|██████████| 398/398 [00:00<00:00, 1.46MB/s]\n"
     ]
    },
    {
     "name": "stdout",
     "output_type": "stream",
     "text": [
      "Downloading and preparing dataset None/None to /home/jeremy/.cache/huggingface/datasets/JeremyArancio___parquet/JeremyArancio--fireball_v1-dac1602dee132ad2/0.0.0/14a00e99c0d15a23649d0db8944380ac81082d4b021f398733dd84f3a6c569a7...\n"
     ]
    },
    {
     "name": "stderr",
     "output_type": "stream",
     "text": [
      "Downloading data: 100%|██████████| 14.7M/14.7M [00:02<00:00, 6.10MB/s]\n",
      "Downloading data files: 100%|██████████| 1/1 [00:04<00:00,  4.11s/it]\n",
      "Extracting data files: 100%|██████████| 1/1 [00:00<00:00, 1079.34it/s]\n",
      "                                                                                        "
     ]
    },
    {
     "name": "stdout",
     "output_type": "stream",
     "text": [
      "Dataset parquet downloaded and prepared to /home/jeremy/.cache/huggingface/datasets/JeremyArancio___parquet/JeremyArancio--fireball_v1-dac1602dee132ad2/0.0.0/14a00e99c0d15a23649d0db8944380ac81082d4b021f398733dd84f3a6c569a7. Subsequent calls will reuse this data.\n"
     ]
    },
    {
     "name": "stderr",
     "output_type": "stream",
     "text": [
      "\r"
     ]
    }
   ],
   "source": [
    "from datasets import load_dataset\n",
    "import json\n",
    "from random import randint\n",
    "\n",
    "dataset = load_dataset(\"JeremyArancio/fireball_v1\", split=\"train\")"
   ]
  },
  {
   "cell_type": "code",
   "execution_count": 35,
   "metadata": {},
   "outputs": [
    {
     "name": "stdout",
     "output_type": "stream",
     "text": [
      "PROMPT:\n",
      "\n",
      "    Last utterance:\n",
      "    3/6 it's in pings. I have marked how much it has left\n",
      "\n",
      "    Command description:\n",
      "    Kain Heisenberg uses Divine Smite!\n",
      "Abaddon took 24 damage.\n",
      "Abaddon took 28 damage.\n",
      "\n",
      "    History:\n",
      "    On Player 2's third to last strike, another one of the purple streaks on his wing dims. 2/4\n",
      "\n",
      "He Glares at Player 2\n",
      "\"You have been causing me the most amount of problems.\"\n",
      "\n",
      "You see one of the streaks on his wings light up, and another one of his threads burn up again\n",
      "\n",
      "Another thread on its crown dims again\n",
      "\n",
      "3/6 it's in pings. I have marked how much it has left\n",
      "    \n",
      "PREDICTION:\n",
      "On Kain's first hit, another purple streak dims\n",
      "\n",
      "You all see his sword become consumed in a pure void of emptiness as he brings it down into the ground, the feeling of the forbiddance now dissappearing\n",
      "\"Now we take this seriously... Today Kain, your soul will join the rest of those I've taken.\"\n",
      "\n",
      "Reality around you begins to shift as it seems like the walls of the bunker and everything begins to crumble. The ceiling shattering and turning into a vast empty sky filled with a dark red hue. You now find yourselves standing on what seems to be a bridge with lave beneath it\n"
     ]
    }
   ],
   "source": [
    "n = randint(0, len(dataset))\n",
    "print(f\"PROMPT:\\n{dataset[n]['prompt']}\")\n",
    "print(f\"PREDICTION:\\n{dataset[n]['prediction']}\")"
   ]
  },
  {
   "cell_type": "code",
   "execution_count": 27,
   "metadata": {},
   "outputs": [
    {
     "name": "stdout",
     "output_type": "stream",
     "text": [
      "hello\n",
      "\n",
      "world\n"
     ]
    }
   ],
   "source": [
    "print(\"hello\\n\\nworld\")"
   ]
  },
  {
   "cell_type": "code",
   "execution_count": null,
   "metadata": {},
   "outputs": [],
   "source": []
  }
 ],
 "metadata": {
  "kernelspec": {
   "display_name": "rpg_assistant",
   "language": "python",
   "name": "python3"
  },
  "language_info": {
   "codemirror_mode": {
    "name": "ipython",
    "version": 3
   },
   "file_extension": ".py",
   "mimetype": "text/x-python",
   "name": "python",
   "nbconvert_exporter": "python",
   "pygments_lexer": "ipython3",
   "version": "3.9.16"
  },
  "orig_nbformat": 4
 },
 "nbformat": 4,
 "nbformat_minor": 2
}
