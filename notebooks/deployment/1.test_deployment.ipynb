{
 "cells": [
  {
   "cell_type": "code",
   "execution_count": 3,
   "metadata": {},
   "outputs": [],
   "source": [
    "import sys\n",
    "sys.path.append('../../')"
   ]
  },
  {
   "cell_type": "code",
   "execution_count": 4,
   "metadata": {},
   "outputs": [
    {
     "name": "stderr",
     "output_type": "stream",
     "text": [
      "/home/jeremy/miniconda3/envs/rpg_assistant/lib/python3.9/site-packages/tqdm/auto.py:21: TqdmWarning: IProgress not found. Please update jupyter and ipywidgets. See https://ipywidgets.readthedocs.io/en/stable/user_install.html\n",
      "  from .autonotebook import tqdm as notebook_tqdm\n",
      "/home/jeremy/miniconda3/envs/rpg_assistant/lib/python3.9/site-packages/bitsandbytes/cextension.py:34: UserWarning: The installed version of bitsandbytes was compiled without GPU support. 8-bit optimizers, 8-bit multiplication, and GPU quantization are unavailable.\n",
      "  warn(\"The installed version of bitsandbytes was compiled without GPU support. \"\n"
     ]
    },
    {
     "name": "stdout",
     "output_type": "stream",
     "text": [
      "/home/jeremy/miniconda3/envs/rpg_assistant/lib/python3.9/site-packages/bitsandbytes/libbitsandbytes_cpu.so: undefined symbol: cadam32bit_grad_fp32\n"
     ]
    },
    {
     "ename": "AttributeError",
     "evalue": "'SageMaker' object has no attribute 'sagemaker_config'",
     "output_type": "error",
     "traceback": [
      "\u001b[0;31m---------------------------------------------------------------------------\u001b[0m",
      "\u001b[0;31mAttributeError\u001b[0m                            Traceback (most recent call last)",
      "\u001b[1;32m/home/jeremy/projects/side_projects/rpg_assistant/notebooks/deployment/1.test_deployment.ipynb Cell 2\u001b[0m line \u001b[0;36m2\n\u001b[1;32m     <a href='vscode-notebook-cell://wsl%2Bubuntu/home/jeremy/projects/side_projects/rpg_assistant/notebooks/deployment/1.test_deployment.ipynb#W0sdnNjb2RlLXJlbW90ZQ%3D%3D?line=18'>19</a>\u001b[0m model_description \u001b[39m=\u001b[39m sm_client\u001b[39m.\u001b[39mdescribe_model_package(ModelPackageName\u001b[39m=\u001b[39mmodel_package[\u001b[39m'\u001b[39m\u001b[39mModelPackageArn\u001b[39m\u001b[39m'\u001b[39m])\n\u001b[1;32m     <a href='vscode-notebook-cell://wsl%2Bubuntu/home/jeremy/projects/side_projects/rpg_assistant/notebooks/deployment/1.test_deployment.ipynb#W0sdnNjb2RlLXJlbW90ZQ%3D%3D?line=20'>21</a>\u001b[0m model_package_arn \u001b[39m=\u001b[39m model_package[\u001b[39m'\u001b[39m\u001b[39mModelPackageArn\u001b[39m\u001b[39m'\u001b[39m]\n\u001b[0;32m---> <a href='vscode-notebook-cell://wsl%2Bubuntu/home/jeremy/projects/side_projects/rpg_assistant/notebooks/deployment/1.test_deployment.ipynb#W0sdnNjb2RlLXJlbW90ZQ%3D%3D?line=21'>22</a>\u001b[0m model \u001b[39m=\u001b[39m ModelPackage(\n\u001b[1;32m     <a href='vscode-notebook-cell://wsl%2Bubuntu/home/jeremy/projects/side_projects/rpg_assistant/notebooks/deployment/1.test_deployment.ipynb#W0sdnNjb2RlLXJlbW90ZQ%3D%3D?line=22'>23</a>\u001b[0m     role\u001b[39m=\u001b[39;49mROLE,\n\u001b[1;32m     <a href='vscode-notebook-cell://wsl%2Bubuntu/home/jeremy/projects/side_projects/rpg_assistant/notebooks/deployment/1.test_deployment.ipynb#W0sdnNjb2RlLXJlbW90ZQ%3D%3D?line=23'>24</a>\u001b[0m     model_package_arn\u001b[39m=\u001b[39;49mmodel_package_arn,\n\u001b[1;32m     <a href='vscode-notebook-cell://wsl%2Bubuntu/home/jeremy/projects/side_projects/rpg_assistant/notebooks/deployment/1.test_deployment.ipynb#W0sdnNjb2RlLXJlbW90ZQ%3D%3D?line=24'>25</a>\u001b[0m     sagemaker_session\u001b[39m=\u001b[39;49msagemaker_session\n\u001b[1;32m     <a href='vscode-notebook-cell://wsl%2Bubuntu/home/jeremy/projects/side_projects/rpg_assistant/notebooks/deployment/1.test_deployment.ipynb#W0sdnNjb2RlLXJlbW90ZQ%3D%3D?line=25'>26</a>\u001b[0m )\n",
      "File \u001b[0;32m~/miniconda3/envs/rpg_assistant/lib/python3.9/site-packages/sagemaker/model.py:1786\u001b[0m, in \u001b[0;36mModelPackage.__init__\u001b[0;34m(self, role, model_data, algorithm_arn, model_package_arn, **kwargs)\u001b[0m\n\u001b[1;32m   1781\u001b[0m \u001b[39mif\u001b[39;00m \u001b[39misinstance\u001b[39m(model_data, \u001b[39mdict\u001b[39m):\n\u001b[1;32m   1782\u001b[0m     \u001b[39mraise\u001b[39;00m \u001b[39mValueError\u001b[39;00m(\n\u001b[1;32m   1783\u001b[0m         \u001b[39m\"\u001b[39m\u001b[39mCreating ModelPackage with ModelDataSource is currently not supported\u001b[39m\u001b[39m\"\u001b[39m\n\u001b[1;32m   1784\u001b[0m     )\n\u001b[0;32m-> 1786\u001b[0m \u001b[39msuper\u001b[39;49m(ModelPackage, \u001b[39mself\u001b[39;49m)\u001b[39m.\u001b[39;49m\u001b[39m__init__\u001b[39;49m(\n\u001b[1;32m   1787\u001b[0m     role\u001b[39m=\u001b[39;49mrole, model_data\u001b[39m=\u001b[39;49mmodel_data, image_uri\u001b[39m=\u001b[39;49m\u001b[39mNone\u001b[39;49;00m, \u001b[39m*\u001b[39;49m\u001b[39m*\u001b[39;49mkwargs\n\u001b[1;32m   1788\u001b[0m )\n\u001b[1;32m   1790\u001b[0m \u001b[39mif\u001b[39;00m model_package_arn \u001b[39mand\u001b[39;00m algorithm_arn:\n\u001b[1;32m   1791\u001b[0m     \u001b[39mraise\u001b[39;00m \u001b[39mValueError\u001b[39;00m(\n\u001b[1;32m   1792\u001b[0m         \u001b[39m\"\u001b[39m\u001b[39mmodel_package_arn and algorithm_arn are mutually exclusive.\u001b[39m\u001b[39m\"\u001b[39m\n\u001b[1;32m   1793\u001b[0m         \u001b[39m\"\u001b[39m\u001b[39mBoth were provided: model_package_arn: \u001b[39m\u001b[39m%s\u001b[39;00m\u001b[39m algorithm_arn: \u001b[39m\u001b[39m%s\u001b[39;00m\u001b[39m\"\u001b[39m\n\u001b[1;32m   1794\u001b[0m         \u001b[39m%\u001b[39m (model_package_arn, algorithm_arn)\n\u001b[1;32m   1795\u001b[0m     )\n",
      "File \u001b[0;32m~/miniconda3/envs/rpg_assistant/lib/python3.9/site-packages/sagemaker/model.py:325\u001b[0m, in \u001b[0;36mModel.__init__\u001b[0;34m(self, image_uri, model_data, role, predictor_cls, env, name, vpc_config, sagemaker_session, enable_network_isolation, model_kms_key, image_config, source_dir, code_location, entry_point, container_log_level, dependencies, git_config)\u001b[0m\n\u001b[1;32m    318\u001b[0m \u001b[39m# Workaround for config injection if sagemaker_session is None, since in\u001b[39;00m\n\u001b[1;32m    319\u001b[0m \u001b[39m# that case sagemaker_session will not be initialized until\u001b[39;00m\n\u001b[1;32m    320\u001b[0m \u001b[39m# `_init_sagemaker_session_if_does_not_exist` is called later\u001b[39;00m\n\u001b[1;32m    321\u001b[0m \u001b[39mself\u001b[39m\u001b[39m.\u001b[39m_sagemaker_config \u001b[39m=\u001b[39m (\n\u001b[1;32m    322\u001b[0m     load_sagemaker_config() \u001b[39mif\u001b[39;00m (\u001b[39mself\u001b[39m\u001b[39m.\u001b[39msagemaker_session \u001b[39mis\u001b[39;00m \u001b[39mNone\u001b[39;00m) \u001b[39melse\u001b[39;00m \u001b[39mNone\u001b[39;00m\n\u001b[1;32m    323\u001b[0m )\n\u001b[0;32m--> 325\u001b[0m \u001b[39mself\u001b[39m\u001b[39m.\u001b[39mrole \u001b[39m=\u001b[39m resolve_value_from_config(\n\u001b[1;32m    326\u001b[0m     role,\n\u001b[1;32m    327\u001b[0m     MODEL_EXECUTION_ROLE_ARN_PATH,\n\u001b[1;32m    328\u001b[0m     sagemaker_session\u001b[39m=\u001b[39;49m\u001b[39mself\u001b[39;49m\u001b[39m.\u001b[39;49msagemaker_session,\n\u001b[1;32m    329\u001b[0m     sagemaker_config\u001b[39m=\u001b[39;49m\u001b[39mself\u001b[39;49m\u001b[39m.\u001b[39;49m_sagemaker_config,\n\u001b[1;32m    330\u001b[0m )\n\u001b[1;32m    331\u001b[0m \u001b[39mself\u001b[39m\u001b[39m.\u001b[39mvpc_config \u001b[39m=\u001b[39m resolve_value_from_config(\n\u001b[1;32m    332\u001b[0m     vpc_config,\n\u001b[1;32m    333\u001b[0m     MODEL_VPC_CONFIG_PATH,\n\u001b[1;32m    334\u001b[0m     sagemaker_session\u001b[39m=\u001b[39m\u001b[39mself\u001b[39m\u001b[39m.\u001b[39msagemaker_session,\n\u001b[1;32m    335\u001b[0m     sagemaker_config\u001b[39m=\u001b[39m\u001b[39mself\u001b[39m\u001b[39m.\u001b[39m_sagemaker_config,\n\u001b[1;32m    336\u001b[0m )\n\u001b[1;32m    337\u001b[0m \u001b[39mself\u001b[39m\u001b[39m.\u001b[39mendpoint_name \u001b[39m=\u001b[39m \u001b[39mNone\u001b[39;00m\n",
      "File \u001b[0;32m~/miniconda3/envs/rpg_assistant/lib/python3.9/site-packages/sagemaker/utils.py:1086\u001b[0m, in \u001b[0;36mresolve_value_from_config\u001b[0;34m(direct_input, config_path, default_value, sagemaker_session, sagemaker_config)\u001b[0m\n\u001b[1;32m   1048\u001b[0m \u001b[39mdef\u001b[39;00m \u001b[39mresolve_value_from_config\u001b[39m(\n\u001b[1;32m   1049\u001b[0m     direct_input\u001b[39m=\u001b[39m\u001b[39mNone\u001b[39;00m,\n\u001b[1;32m   1050\u001b[0m     config_path: \u001b[39mstr\u001b[39m \u001b[39m=\u001b[39m \u001b[39mNone\u001b[39;00m,\n\u001b[0;32m   (...)\u001b[0m\n\u001b[1;32m   1053\u001b[0m     sagemaker_config: \u001b[39mdict\u001b[39m \u001b[39m=\u001b[39m \u001b[39mNone\u001b[39;00m,\n\u001b[1;32m   1054\u001b[0m ):\n\u001b[1;32m   1055\u001b[0m \u001b[39m    \u001b[39m\u001b[39m\"\"\"Decides which value for the caller to use.\u001b[39;00m\n\u001b[1;32m   1056\u001b[0m \n\u001b[1;32m   1057\u001b[0m \u001b[39m    Note: This method incorporates information from the sagemaker config.\u001b[39;00m\n\u001b[0;32m   (...)\u001b[0m\n\u001b[1;32m   1082\u001b[0m \u001b[39m        The value that should be used by the caller\u001b[39;00m\n\u001b[1;32m   1083\u001b[0m \u001b[39m    \"\"\"\u001b[39;00m\n\u001b[1;32m   1085\u001b[0m     config_value \u001b[39m=\u001b[39m (\n\u001b[0;32m-> 1086\u001b[0m         get_sagemaker_config_value(\n\u001b[1;32m   1087\u001b[0m             sagemaker_session, config_path, sagemaker_config\u001b[39m=\u001b[39;49msagemaker_config\n\u001b[1;32m   1088\u001b[0m         )\n\u001b[1;32m   1089\u001b[0m         \u001b[39mif\u001b[39;00m config_path\n\u001b[1;32m   1090\u001b[0m         \u001b[39melse\u001b[39;00m \u001b[39mNone\u001b[39;00m\n\u001b[1;32m   1091\u001b[0m     )\n\u001b[1;32m   1092\u001b[0m     _log_sagemaker_config_single_substitution(direct_input, config_value, config_path)\n\u001b[1;32m   1094\u001b[0m     \u001b[39mif\u001b[39;00m direct_input \u001b[39mis\u001b[39;00m \u001b[39mnot\u001b[39;00m \u001b[39mNone\u001b[39;00m:\n",
      "File \u001b[0;32m~/miniconda3/envs/rpg_assistant/lib/python3.9/site-packages/sagemaker/utils.py:1121\u001b[0m, in \u001b[0;36mget_sagemaker_config_value\u001b[0;34m(sagemaker_session, key, sagemaker_config)\u001b[0m\n\u001b[1;32m   1104\u001b[0m \u001b[39m\u001b[39m\u001b[39m\"\"\"Returns the value that corresponds to the provided key from the configuration file.\u001b[39;00m\n\u001b[1;32m   1105\u001b[0m \n\u001b[1;32m   1106\u001b[0m \u001b[39mArgs:\u001b[39;00m\n\u001b[0;32m   (...)\u001b[0m\n\u001b[1;32m   1118\u001b[0m \u001b[39m    object: The corresponding default value in the configuration file.\u001b[39;00m\n\u001b[1;32m   1119\u001b[0m \u001b[39m\"\"\"\u001b[39;00m\n\u001b[1;32m   1120\u001b[0m \u001b[39mif\u001b[39;00m sagemaker_session:\n\u001b[0;32m-> 1121\u001b[0m     config_to_check \u001b[39m=\u001b[39m sagemaker_session\u001b[39m.\u001b[39;49msagemaker_config\n\u001b[1;32m   1122\u001b[0m \u001b[39melse\u001b[39;00m:\n\u001b[1;32m   1123\u001b[0m     config_to_check \u001b[39m=\u001b[39m sagemaker_config\n",
      "File \u001b[0;32m~/miniconda3/envs/rpg_assistant/lib/python3.9/site-packages/botocore/client.py:875\u001b[0m, in \u001b[0;36mBaseClient.__getattr__\u001b[0;34m(self, item)\u001b[0m\n\u001b[1;32m    872\u001b[0m \u001b[39mif\u001b[39;00m event_response \u001b[39mis\u001b[39;00m \u001b[39mnot\u001b[39;00m \u001b[39mNone\u001b[39;00m:\n\u001b[1;32m    873\u001b[0m     \u001b[39mreturn\u001b[39;00m event_response\n\u001b[0;32m--> 875\u001b[0m \u001b[39mraise\u001b[39;00m \u001b[39mAttributeError\u001b[39;00m(\n\u001b[1;32m    876\u001b[0m     \u001b[39mf\u001b[39m\u001b[39m\"\u001b[39m\u001b[39m'\u001b[39m\u001b[39m{\u001b[39;00m\u001b[39mself\u001b[39m\u001b[39m.\u001b[39m\u001b[39m__class__\u001b[39m\u001b[39m.\u001b[39m\u001b[39m__name__\u001b[39m\u001b[39m}\u001b[39;00m\u001b[39m'\u001b[39m\u001b[39m object has no attribute \u001b[39m\u001b[39m'\u001b[39m\u001b[39m{\u001b[39;00mitem\u001b[39m}\u001b[39;00m\u001b[39m'\u001b[39m\u001b[39m\"\u001b[39m\n\u001b[1;32m    877\u001b[0m )\n",
      "\u001b[0;31mAttributeError\u001b[0m: 'SageMaker' object has no attribute 'sagemaker_config'"
     ]
    }
   ],
   "source": [
    "import os\n",
    "import logging\n",
    "\n",
    "from sagemaker import ModelPackage, Session\n",
    "import boto3\n",
    "\n",
    "from scripts.config import ConfigDeployment, ConfigRegistry\n",
    "from scripts.utils import get_approved_package\n",
    "\n",
    "LOGGER = logging.getLogger(__name__)\n",
    "ROLE = os.getenv('SAGEMAKER_ROLE')\n",
    "\n",
    "sess = boto3.Session()\n",
    "sagemaker_session = Session(boto_session=sess)\n",
    "sm_client = boto3.client('sagemaker')\n",
    "sagemaker_session = boto3.Session().client('sagemaker')\n",
    "\n",
    "model_package = get_approved_package(ConfigRegistry.model_package_group_name)\n",
    "model_description = sm_client.describe_model_package(ModelPackageName=model_package['ModelPackageArn'])\n",
    "\n",
    "model_package_arn = model_package['ModelPackageArn']\n",
    "model = ModelPackage(\n",
    "    role=ROLE,\n",
    "    model_package_arn=model_package_arn,\n",
    "    sagemaker_session=sagemaker_session\n",
    ")"
   ]
  },
  {
   "cell_type": "code",
   "execution_count": null,
   "metadata": {},
   "outputs": [],
   "source": [
    "print(model)"
   ]
  },
  {
   "cell_type": "code",
   "execution_count": null,
   "metadata": {},
   "outputs": [],
   "source": [
    "model.deploy(\n",
    "    initial_instance_count=ConfigRegistry.instance_count,\n",
    "    instance_type=ConfigRegistry.inference_instance_type,\n",
    "    endpoint_name=ConfigRegistry.endpoint_name\n",
    ")"
   ]
  }
 ],
 "metadata": {
  "kernelspec": {
   "display_name": "rpg_assistant",
   "language": "python",
   "name": "python3"
  },
  "language_info": {
   "codemirror_mode": {
    "name": "ipython",
    "version": 3
   },
   "file_extension": ".py",
   "mimetype": "text/x-python",
   "name": "python",
   "nbconvert_exporter": "python",
   "pygments_lexer": "ipython3",
   "version": "3.9.16"
  },
  "orig_nbformat": 4
 },
 "nbformat": 4,
 "nbformat_minor": 2
}
