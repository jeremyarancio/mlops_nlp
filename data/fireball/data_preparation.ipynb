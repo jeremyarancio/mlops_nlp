{
 "cells": [
  {
   "cell_type": "markdown",
   "metadata": {},
   "source": [
    "# Prepare the fireball dataset for training"
   ]
  },
  {
   "cell_type": "code",
   "execution_count": 1,
   "metadata": {},
   "outputs": [
    {
     "name": "stderr",
     "output_type": "stream",
     "text": [
      "/home/jeremy/miniconda3/envs/rpg_assistant/lib/python3.9/site-packages/tqdm/auto.py:21: TqdmWarning: IProgress not found. Please update jupyter and ipywidgets. See https://ipywidgets.readthedocs.io/en/stable/user_install.html\n",
      "  from .autonotebook import tqdm as notebook_tqdm\n"
     ]
    }
   ],
   "source": [
    "from datasets import load_dataset"
   ]
  },
  {
   "cell_type": "markdown",
   "metadata": {},
   "source": [
    "The dataset has been extracted from the official .tar.gz link and the preprocessed data has been used.\n",
    "Check the offical GitHub of [FIREBALL](https://github.com/zhudotexe/FIREBALL)  \n",
    "\n",
    "It is now stored on my hf account"
   ]
  },
  {
   "cell_type": "code",
   "execution_count": 2,
   "metadata": {},
   "outputs": [
    {
     "name": "stderr",
     "output_type": "stream",
     "text": [
      "Found cached dataset parquet (/home/jeremy/.cache/huggingface/datasets/JeremyArancio___parquet/JeremyArancio--fireball-0c4eb766134263ea/0.0.0/14a00e99c0d15a23649d0db8944380ac81082d4b021f398733dd84f3a6c569a7)\n"
     ]
    },
    {
     "data": {
      "text/plain": [
       "Dataset({\n",
       "    features: ['before_utterances', 'commands_norm', 'automation_results', 'after_utterances', 'utterance_history'],\n",
       "    num_rows: 153829\n",
       "})"
      ]
     },
     "execution_count": 2,
     "metadata": {},
     "output_type": "execute_result"
    }
   ],
   "source": [
    "dataset = load_dataset(\"JeremyArancio/fireball\", split=\"train\")\n",
    "dataset"
   ]
  },
  {
   "cell_type": "code",
   "execution_count": 63,
   "metadata": {},
   "outputs": [],
   "source": [
    "it = iter(dataset)"
   ]
  },
  {
   "cell_type": "code",
   "execution_count": 120,
   "metadata": {},
   "outputs": [
    {
     "data": {
      "text/plain": [
       "{'before_utterances': ['Seeing his ineveitable doom as the party closes in on him, the Orc lets out a roar and beats his chest \"For GLORY!\"',\n",
       "  '\"Lets get it over with...slay this beast\" *he says*',\n",
       "  '\"Put it right between his eyes!\"',\n",
       "  'She then position herself going for the right spot then she throws that javelin trying to aim for between the eyes'],\n",
       " 'commands_norm': ['!a javelin -t or2 adv'],\n",
       " 'automation_results': ['Orance attacks with a Javelin!\\nOrance attacked OR2 and hit.\\nOR2 took 10 damage.'],\n",
       " 'after_utterances': ['The javelin flies through the air, not hitting him in the face, but sticking him in the shoulder. He breaks it off as he pushes through the pain'],\n",
       " 'utterance_history': ['Player 3 of Twilight [6]: \"I\\'ll take you with me devil!\" the orc screams as he hits Cali twice with his Greataxe',\n",
       "  'Player 3 of Twilight [6]: Seeing his ineveitable doom as the party closes in on him, the Orc lets out a roar and beats his chest \"For GLORY!\"',\n",
       "  'Player 3 of Twilight [6]: \"Lets get it over with...slay this beast\" *he says*',\n",
       "  'Player 3 of Twilight [6]: \"Put it right between his eyes!\"',\n",
       "  'Fredbear (Zal 6)(Player 2 6): She then position herself going for the right spot then she throws that javelin trying to aim for between the eyes']}"
      ]
     },
     "execution_count": 120,
     "metadata": {},
     "output_type": "execute_result"
    }
   ],
   "source": [
    "next(it)"
   ]
  },
  {
   "cell_type": "markdown",
   "metadata": {},
   "source": [
    "Action steps:\n",
    "1. before_utterances comes before the command action (it is also stored in utterance history) \n",
    "2. action command (automation_result / commands_normalised)\n",
    "3. results of the action on the next line **or** in next_utterance. In the last case, the next_utterance is not stored in the history\n",
    "\n",
    "\n",
    "```txt\n",
    "'before_utterances': ['The orc assesses the battle field, and sees all of his comrades have been slain. He looks at Cali with blood all over her mouth and takes a swing at her']\n",
    "\n",
    "'commands_norm': ['!i aoo OR2 greataxe -t cali'],\n",
    "'automation_results': ['OR2 attacks with a Greataxe!\\nOR2 attacked Cali Burn and hit.\\nCali Burn took 8 damage.']\n",
    "\n",
    "Next row\n",
    "---------------------------------------------------\n",
    "'before_utterances': [],\n",
    "'commands_norm': ['!i a greataxe -t Cali'],\n",
    "'automation_results': ['OR2 attacks with a Greataxe!\\nOR2 attacked Cali Burn and hit.\\nCali Burn took 7 damage.']\n",
    "'after_utterances': ['\"I\\'ll take you with me devil!\" the orc screams as he hits Cali twice with his Greataxe'],\n",
    "\n",
    "Next row\n",
    "---------------------------------------------------µ\n",
    "'before_utterances': ['Seeing his ineveitable doom as the party closes in on him, the Orc lets out a roar and beats his chest \"For GLORY!\"',\n",
    "  '\"Lets get it over with...slay this beast\" *he says*',\n",
    "  '\"Put it right between his eyes!\"',\n",
    "  'She then position herself going for the right spot then she throws that javelin trying to aim for between the eyes']\n",
    "\n",
    "'commands_norm': ['!a javelin -t or2 adv'],\n",
    "'automation_results': ['Orance attacks with a Javelin!\\nOrance attacked OR2 and hit.\\nOR2 took 10 damage.']\n",
    "\n",
    "'after_utterances': ['The javelin flies through the air, not hitting him in the face, but sticking him in the shoulder. He breaks it off as he pushes through the pain']\n",
    "\n",
    "Next row\n",
    "---------------------------------------------------\n",
    "'before_utterances': ['Actually…you know what? Screw it I will hit him with my own Greataxe! ‘She suddenly move fast as soon she begin a FRENZY of two attacks!’']\n",
    "\n",
    "\n",
    "'commands_norm': ['!a Frenzy'],\n",
    "'automation_results': ['Orance uses Frenzy Rage!\\nOrance gained Rage.']\n",
    "\n",
    "'after_utterances': [],\n",
    "\n",
    "Next row\n",
    "---------------------------------------------------\n",
    "'before_utterances': ['\"Damn you! \" he screams as he swings his axe at Orance'],\n",
    "\n",
    "'commands_norm': ['!i aoo OR2 greataxe -t Orance'],\n",
    "'automation_results': ['OR2 attacks with a Greataxe!\\nOR2 attacked Orance and hit.\\nOrance took 7 damage.']\n",
    "\n",
    "'after_utterances': ['The Orc connects solidly, but Orance seemed unphased'],\n",
    "\n",
    "```"
   ]
  }
 ],
 "metadata": {
  "kernelspec": {
   "display_name": "rpg_assistant",
   "language": "python",
   "name": "python3"
  },
  "language_info": {
   "codemirror_mode": {
    "name": "ipython",
    "version": 3
   },
   "file_extension": ".py",
   "mimetype": "text/x-python",
   "name": "python",
   "nbconvert_exporter": "python",
   "pygments_lexer": "ipython3",
   "version": "3.9.16"
  },
  "orig_nbformat": 4
 },
 "nbformat": 4,
 "nbformat_minor": 2
}
