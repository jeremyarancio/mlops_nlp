{
 "cells": [
  {
   "cell_type": "markdown",
   "metadata": {},
   "source": [
    "# Prepare the fireball dataset for training"
   ]
  },
  {
   "cell_type": "code",
   "execution_count": 68,
   "metadata": {},
   "outputs": [],
   "source": [
    "from datasets import load_dataset, Dataset\n",
    "from tqdm import tqdm\n",
    "import json"
   ]
  },
  {
   "cell_type": "markdown",
   "metadata": {},
   "source": [
    "The dataset has been extracted from the official .tar.gz link and the preprocessed data has been used.\n",
    "Check the offical GitHub of [FIREBALL](https://github.com/zhudotexe/FIREBALL)  \n",
    "\n",
    "It is now stored on my hf account"
   ]
  },
  {
   "cell_type": "code",
   "execution_count": 2,
   "metadata": {},
   "outputs": [
    {
     "name": "stderr",
     "output_type": "stream",
     "text": [
      "Found cached dataset parquet (/home/jeremy/.cache/huggingface/datasets/JeremyArancio___parquet/JeremyArancio--fireball-0c4eb766134263ea/0.0.0/14a00e99c0d15a23649d0db8944380ac81082d4b021f398733dd84f3a6c569a7)\n"
     ]
    },
    {
     "data": {
      "text/plain": [
       "Dataset({\n",
       "    features: ['before_utterances', 'commands_norm', 'automation_results', 'after_utterances', 'utterance_history'],\n",
       "    num_rows: 153829\n",
       "})"
      ]
     },
     "execution_count": 2,
     "metadata": {},
     "output_type": "execute_result"
    }
   ],
   "source": [
    "dataset = load_dataset(\"JeremyArancio/fireball\", split=\"train\")\n",
    "dataset"
   ]
  },
  {
   "cell_type": "code",
   "execution_count": 3,
   "metadata": {},
   "outputs": [],
   "source": [
    "it = iter(dataset)"
   ]
  },
  {
   "cell_type": "code",
   "execution_count": 27,
   "metadata": {},
   "outputs": [
    {
     "data": {
      "text/plain": [
       "{'before_utterances': [],\n",
       " 'commands_norm': ['!a handaxe -t or3 adv'],\n",
       " 'automation_results': ['Orance attacks with a Handaxe!\\nOrance attacked OR3 and hit.\\nOR3 took 8 damage.'],\n",
       " 'after_utterances': ['The orc snarls at the puny hit from Orance \"I thought better of you...you\\'re a disgrace to all Orcs!\"'],\n",
       " 'utterance_history': ['Player 3 of Twilight [6]: Also enraged from watching his leader fall, he looks towards Guldar. He raises his axe...',\n",
       "  'Player 3 of Twilight [6]: The orcs miss as the tiny dwarf is too quick on his feat. They reply \" The only thing i\\'ll learn from you is what your insides taste like!\" *he snarls*',\n",
       "  'Player 3 of Twilight [6]: Dropping the drums ealier, he swings with ferocity towards Cali',\n",
       "  'Player 3 of Twilight [6]: The orc looks at Cali as he glances off her arm. \"you\\'re sure to pay for this!\"',\n",
       "  'Player 3 of Twilight [6]: (you make movement to them then ya?']}"
      ]
     },
     "execution_count": 27,
     "metadata": {},
     "output_type": "execute_result"
    }
   ],
   "source": [
    "next(it)"
   ]
  },
  {
   "cell_type": "markdown",
   "metadata": {},
   "source": [
    "Action steps:\n",
    "1. before_utterances comes before the command action (it is also stored in utterance history) \n",
    "2. action command (automation_result / commands_normalised)\n",
    "3. results of the action on the next line **or** in next_utterance. In the last case, the next_utterance is not stored in the history\n",
    "\n",
    "\n",
    "```txt\n",
    "'before_utterances': ['The orc assesses the battle field, and sees all of his comrades have been slain. He looks at Cali with blood all over her mouth and takes a swing at her']\n",
    "\n",
    "'commands_norm': ['!i aoo OR2 greataxe -t cali'],\n",
    "'automation_results': ['OR2 attacks with a Greataxe!\\nOR2 attacked Cali Burn and hit.\\nCali Burn took 8 damage.']\n",
    "\n",
    "Next row\n",
    "---------------------------------------------------\n",
    "'before_utterances': [],\n",
    "'commands_norm': ['!i a greataxe -t Cali'],\n",
    "'automation_results': ['OR2 attacks with a Greataxe!\\nOR2 attacked Cali Burn and hit.\\nCali Burn took 7 damage.']\n",
    "'after_utterances': ['\"I\\'ll take you with me devil!\" the orc screams as he hits Cali twice with his Greataxe'],\n",
    "\n",
    "Next row\n",
    "---------------------------------------------------µ\n",
    "'before_utterances': ['Seeing his ineveitable doom as the party closes in on him, the Orc lets out a roar and beats his chest \"For GLORY!\"',\n",
    "  '\"Lets get it over with...slay this beast\" *he says*',\n",
    "  '\"Put it right between his eyes!\"',\n",
    "  'She then position herself going for the right spot then she throws that javelin trying to aim for between the eyes']\n",
    "\n",
    "'commands_norm': ['!a javelin -t or2 adv'],\n",
    "'automation_results': ['Orance attacks with a Javelin!\\nOrance attacked OR2 and hit.\\nOR2 took 10 damage.']\n",
    "\n",
    "'after_utterances': ['The javelin flies through the air, not hitting him in the face, but sticking him in the shoulder. He breaks it off as he pushes through the pain']\n",
    "\n",
    "Next row\n",
    "---------------------------------------------------\n",
    "'before_utterances': ['Actually…you know what? Screw it I will hit him with my own Greataxe! ‘She suddenly move fast as soon she begin a FRENZY of two attacks!’']\n",
    "\n",
    "\n",
    "'commands_norm': ['!a Frenzy'],\n",
    "'automation_results': ['Orance uses Frenzy Rage!\\nOrance gained Rage.']\n",
    "\n",
    "'after_utterances': [],\n",
    "\n",
    "Next row\n",
    "---------------------------------------------------\n",
    "'before_utterances': ['\"Damn you! \" he screams as he swings his axe at Orance'],\n",
    "\n",
    "'commands_norm': ['!i aoo OR2 greataxe -t Orance'],\n",
    "'automation_results': ['OR2 attacks with a Greataxe!\\nOR2 attacked Orance and hit.\\nOrance took 7 damage.']\n",
    "\n",
    "'after_utterances': ['The Orc connects solidly, but Orance seemed unphased'],\n",
    "\n",
    "```"
   ]
  },
  {
   "cell_type": "markdown",
   "metadata": {},
   "source": [
    "## Preparation process"
   ]
  },
  {
   "cell_type": "markdown",
   "metadata": {},
   "source": [
    "Sometimes, \"before utterance\" or \"after utterance\" can be missing. \n",
    "Because the story can continue over lines (jsonl) / events, we will create a dataset that will have the required triplet for each event. "
   ]
  },
  {
   "cell_type": "code",
   "execution_count": 111,
   "metadata": {},
   "outputs": [],
   "source": [
    "def fill_up_before_after_utterances(dataset: Dataset) -> Dataset:\n",
    "    new_dataset = dataset\n",
    "    for i in tqdm(range(len(dataset))):\n",
    "        # before_utterances\n",
    "        if i > 0 and not dataset[i]['before_utterances']:\n",
    "            new_dataset[i][\"before_utterances\"] =  dataset[i-1][\"after_utterances\"]\n",
    "        # after_utterances\n",
    "        if i < len(dataset) and not dataset[i][\"after_utterances\"]:\n",
    "            j = 1\n",
    "            while not dataset[i + j][\"before_utterances\"]:\n",
    "                j += 1\n",
    "            new_dataset[i][\"after_utterances\"] = dataset[i+1]['before_utterances']\n",
    "        if i > 1:\n",
    "            assert new_dataset[i][\"before_utterances\"] and new_dataset[i][\"after_utterances\"], f\"\"\"Utterances missing at index {i}\\n{new_dataset[i]} \"\"\"\n",
    "\n",
    "    return new_dataset"
   ]
  },
  {
   "cell_type": "code",
   "execution_count": 112,
   "metadata": {},
   "outputs": [
    {
     "name": "stderr",
     "output_type": "stream",
     "text": [
      "  0%|          | 6/153829 [00:00<15:01, 170.55it/s]\n"
     ]
    },
    {
     "ename": "AssertionError",
     "evalue": "Utterances missing at index 6\n{'before_utterances': ['The second orc takes his swing at Guldar....'], 'commands_norm': ['!i a greataxe -t guldar'], 'automation_results': ['OR4 attacks with a Greataxe!\\nOR4 attacked Guldar Battleglug but missed.\\n'], 'after_utterances': [], 'utterance_history': ['Player 3 of Twilight [6]: The second Orc swings almost simultaneously as the first.', 'Player 3 of Twilight [6]: The orcs to the east make their way towards the party, charging down the hill!', 'Player 3 of Twilight [6]: The orcs are within melee range of Cali, and Guldar. The orc lifts its axe with murderous intent....', 'Player 3 of Twilight [6]: The Orc connects, hitting Cali squarely', 'Player 3 of Twilight [6]: The second orc takes his swing at Guldar....']} ",
     "output_type": "error",
     "traceback": [
      "\u001b[0;31m---------------------------------------------------------------------------\u001b[0m",
      "\u001b[0;31mAssertionError\u001b[0m                            Traceback (most recent call last)",
      "File \u001b[0;32m<timed exec>:1\u001b[0m\n",
      "Cell \u001b[0;32mIn[111], line 11\u001b[0m, in \u001b[0;36mfill_up_before_after_utterances\u001b[0;34m(dataset)\u001b[0m\n\u001b[1;32m      9\u001b[0m         new_dataset[i][\u001b[39m\"\u001b[39m\u001b[39mafter_utterances\u001b[39m\u001b[39m\"\u001b[39m] \u001b[39m=\u001b[39m dataset[i\u001b[39m+\u001b[39m\u001b[39m1\u001b[39m][\u001b[39m'\u001b[39m\u001b[39mbefore_utterances\u001b[39m\u001b[39m'\u001b[39m]\n\u001b[1;32m     10\u001b[0m     \u001b[39mif\u001b[39;00m i \u001b[39m>\u001b[39m \u001b[39m1\u001b[39m:\n\u001b[0;32m---> 11\u001b[0m         \u001b[39massert\u001b[39;00m new_dataset[i][\u001b[39m\"\u001b[39m\u001b[39mbefore_utterances\u001b[39m\u001b[39m\"\u001b[39m] \u001b[39mand\u001b[39;00m new_dataset[i][\u001b[39m\"\u001b[39m\u001b[39mafter_utterances\u001b[39m\u001b[39m\"\u001b[39m], \u001b[39mf\u001b[39m\u001b[39m\"\"\"\u001b[39m\u001b[39mUtterances missing at index \u001b[39m\u001b[39m{\u001b[39;00mi\u001b[39m}\u001b[39;00m\u001b[39m\\n\u001b[39;00m\u001b[39m{\u001b[39;00mnew_dataset[i]\u001b[39m}\u001b[39;00m\u001b[39m \u001b[39m\u001b[39m\"\"\"\u001b[39m\n\u001b[1;32m     13\u001b[0m \u001b[39mreturn\u001b[39;00m new_dataset\n",
      "\u001b[0;31mAssertionError\u001b[0m: Utterances missing at index 6\n{'before_utterances': ['The second orc takes his swing at Guldar....'], 'commands_norm': ['!i a greataxe -t guldar'], 'automation_results': ['OR4 attacks with a Greataxe!\\nOR4 attacked Guldar Battleglug but missed.\\n'], 'after_utterances': [], 'utterance_history': ['Player 3 of Twilight [6]: The second Orc swings almost simultaneously as the first.', 'Player 3 of Twilight [6]: The orcs to the east make their way towards the party, charging down the hill!', 'Player 3 of Twilight [6]: The orcs are within melee range of Cali, and Guldar. The orc lifts its axe with murderous intent....', 'Player 3 of Twilight [6]: The Orc connects, hitting Cali squarely', 'Player 3 of Twilight [6]: The second orc takes his swing at Guldar....']} "
     ]
    }
   ],
   "source": [
    "%%time\n",
    "new_dataset = fill_up_before_after_utterances(dataset)"
   ]
  },
  {
   "cell_type": "code",
   "execution_count": 103,
   "metadata": {},
   "outputs": [
    {
     "data": {
      "text/plain": [
       "{'before_utterances': ['Salients fingertips start to glow as he watches Cali almost rip the chiefs throat out.'],\n",
       " 'commands_norm': ['!cast magic missile -l 2 -t or5 -t or5 -t or5 -t or1'],\n",
       " 'automation_results': ['Salient of Twilight casts Magic Missile!\\nOR5 took 5 damage.\\nOR5 took 5 damage.\\nOR5 took 5 damage.\\nOR1 took 5 damage.'],\n",
       " 'after_utterances': [\"Salient's darts shoot from his hand, 3 hit the chief in a row, impaling his skull and spilling his brains onto the grass...The 4th dart hits The orc in front of him squarly in the chest and leaves a singe mark on his armor.\"],\n",
       " 'utterance_history': ['Player 3 of Twilight [6]: OR1 and 2 scream and panic due to dreadful thoughts of not dying in combat....but instead dying to a freak axe sharpening accident',\n",
       "  'Player 3 of Twilight [6]: As Cali approaches the Orc Chief, he takes blow after blow until he is taken to his belly. Cali bites him on the back of his neck causing a tremendous wound.',\n",
       "  'Player 3 of Twilight [6]: \"The orc looks up at Cali, We die here on the battlefield....no where else! ATTACK!\" He screams to his comrads \"No surrender! No mercy!\" *as a little blood spills out of his mouth*',\n",
       "  'Player 3 of Twilight [6]: The orc with the drums drops the drums and pulls out his Great Axe as he watches his leader fall to the floor.',\n",
       "  'Player 3 of Twilight [6]: Player 3s fingertips start to glow as he watches Cali almost rip the chiefs throat out.']}"
      ]
     },
     "execution_count": 103,
     "metadata": {},
     "output_type": "execute_result"
    }
   ],
   "source": [
    "next(it)"
   ]
  },
  {
   "cell_type": "code",
   "execution_count": null,
   "metadata": {},
   "outputs": [],
   "source": []
  }
 ],
 "metadata": {
  "kernelspec": {
   "display_name": "rpg_assistant",
   "language": "python",
   "name": "python3"
  },
  "language_info": {
   "codemirror_mode": {
    "name": "ipython",
    "version": 3
   },
   "file_extension": ".py",
   "mimetype": "text/x-python",
   "name": "python",
   "nbconvert_exporter": "python",
   "pygments_lexer": "ipython3",
   "version": "3.9.16"
  },
  "orig_nbformat": 4
 },
 "nbformat": 4,
 "nbformat_minor": 2
}
